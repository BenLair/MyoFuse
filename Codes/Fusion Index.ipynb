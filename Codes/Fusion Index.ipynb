{
 "cells": [
  {
   "cell_type": "code",
   "execution_count": 3,
   "id": "b665ecb6-a2b5-4740-bcd9-7b3c475dd592",
   "metadata": {},
   "outputs": [
    {
     "name": "stdout",
     "output_type": "stream",
     "text": [
      "The DataFrame has been exported to '/home/benjamin.lair/Bureau/Fusion Index.xlsx'\n"
     ]
    }
   ],
   "source": [
    "import os\n",
    "import re\n",
    "import pandas as pd\n",
    "\n",
    "# Define the directory and file name\n",
    "directory = 'path/to/your/directory'\n",
    "filename = 'prediction_regionprops.xlsx'\n",
    "\n",
    "# Function to count unique elements in a specified column\n",
    "def count_unique_values(dataframe, column):\n",
    "    \n",
    "    unique_elements = dataframe[column].unique()\n",
    "    return len(unique_elements)\n",
    "    \n",
    "# Use os.path.join to create the full file path\n",
    "excel_file_path = os.path.join(directory, filename)\n",
    "\n",
    "# Load the Excel file with the constructed path\n",
    "df = pd.read_excel(excel_file_path, engine='openpyxl')\n",
    "\n",
    "# Extract the first and eighth columns without headers\n",
    "first_column = df.iloc[:, 0]  # First column\n",
    "eighth_column = df.iloc[:, 7]  # Eighth column (indexing starts from 0, so 7 is the eighth)\n",
    "\n",
    "# Create a new DataFrame with the extracted columns\n",
    "result_df = pd.DataFrame({\n",
    "    'Image': first_column,\n",
    "    'Label': eighth_column\n",
    "})\n",
    "\n",
    "# Function to extract the numeric image number from the 'Image' column\n",
    "def extract_image_number(path):\n",
    "    filename = os.path.basename(path)\n",
    "    numbers = re.findall(r'\\d+', str(filename))\n",
    "    if numbers:\n",
    "        return int(numbers[0])  # Return the first number found as an integer\n",
    "    else:\n",
    "        return None  # Return None if no numbers are found\n",
    "\n",
    "# Apply the function to the 'Image' column to keep only the numeric image number\n",
    "result_df['Image'] = result_df['Image'].apply(extract_image_number)\n",
    "\n",
    "# Count the total number of occurrences per image\n",
    "image_counts = result_df['Image'].value_counts()\n",
    "\n",
    "# Count the number of \"1\" per image\n",
    "count_ones = result_df[result_df['Label'] == 1]['Image'].value_counts()\n",
    "\n",
    "# Count the number of \"2\" per image\n",
    "count_twos = result_df[result_df['Label'] == 2]['Image'].value_counts()\n",
    "\n",
    "# Create a DataFrame with the results\n",
    "final_df = pd.DataFrame({\n",
    "    'Image Name': image_counts.index,\n",
    "    'Total Number of Nuclei': image_counts.values,\n",
    "    'Nuclei In': count_ones.reindex(image_counts.index, fill_value=0),  # Ensure the same index\n",
    "    'Nuclei Out': count_twos.reindex(image_counts.index, fill_value=0)   # Fill with 0 if not found\n",
    "})\n",
    "\n",
    "# Add a column with the percentage of \"In\" compared to \"Total Number\"\n",
    "final_df['Fusion Index (%)'] = (final_df['Nuclei In'] / final_df['Total Number of Nuclei']) * 100\n",
    "\n",
    "# Define the name of the output Excel file\n",
    "output_filename = 'Fusion Index.xlsx'  # Name of the output file\n",
    "output_file_path = os.path.join(directory, output_filename)\n",
    "\n",
    "# Export the final DataFrame to a new Excel file\n",
    "final_df.to_excel(output_file_path, index=False, sheet_name='Results')\n",
    "\n",
    "# Confirm the export\n",
    "print(f\"The DataFrame has been exported to '{output_file_path}'\")"
   ]
  },
  {
   "cell_type": "code",
   "execution_count": null,
   "id": "35a0cd3e-f2a9-4b2d-977a-645acb8f8618",
   "metadata": {},
   "outputs": [],
   "source": []
  }
 ],
 "metadata": {
  "kernelspec": {
   "display_name": "Python [conda env:base] *",
   "language": "python",
   "name": "conda-base-py"
  },
  "language_info": {
   "codemirror_mode": {
    "name": "ipython",
    "version": 3
   },
   "file_extension": ".py",
   "mimetype": "text/x-python",
   "name": "python",
   "nbconvert_exporter": "python",
   "pygments_lexer": "ipython3",
   "version": "3.12.7"
  }
 },
 "nbformat": 4,
 "nbformat_minor": 5
}
